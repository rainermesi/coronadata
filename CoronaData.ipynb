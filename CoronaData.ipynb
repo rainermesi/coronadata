{
 "cells": [
  {
   "cell_type": "markdown",
   "metadata": {},
   "source": [
    "# Setup"
   ]
  },
  {
   "cell_type": "markdown",
   "metadata": {},
   "source": [
    "required gspred and oauth\n",
    "\n",
    "Go to Google Develpment console and create a new project. Go to apis and services and enable google sheets. Go to credentials and create a service account. Access level Viewer. Create and download .json key file. Save keyfile to your project folder. "
   ]
  },
  {
   "cell_type": "code",
   "execution_count": 52,
   "metadata": {},
   "outputs": [],
   "source": [
    "from oauth2client.service_account import ServiceAccountCredentials\n",
    "import gspread\n",
    "import pandas as pd\n",
    "\n",
    "scope = [\n",
    "    'https://www.googleapis.com/auth/spreadsheets'\n",
    "]\n",
    "\n",
    "GOOGLE_KEY_FILE = 'my_api_key.json'\n",
    "\n",
    "credentials = ServiceAccountCredentials.from_json_keyfile_name(GOOGLE_KEY_FILE, scope)\n",
    "gc = gspread.authorize(credentials)\n",
    "\n",
    "workbook_key = '1yZv9w9zRKwrGTaR-YzmAqMefw4wMlaXocejdxZaTs6w' \n",
    "workbook = gc.open_by_key(workbook_key)\n",
    "sheet = workbook.get_worksheet(0)\n",
    "values = sheet.get_all_values()\n",
    "c_data_0 = pd.DataFrame(values[1:],columns=values[0])"
   ]
  },
  {
   "cell_type": "code",
   "execution_count": 2,
   "metadata": {},
   "outputs": [
    {
     "data": {
      "text/html": [
       "<div>\n",
       "<style scoped>\n",
       "    .dataframe tbody tr th:only-of-type {\n",
       "        vertical-align: middle;\n",
       "    }\n",
       "\n",
       "    .dataframe tbody tr th {\n",
       "        vertical-align: top;\n",
       "    }\n",
       "\n",
       "    .dataframe thead th {\n",
       "        text-align: right;\n",
       "    }\n",
       "</style>\n",
       "<table border=\"1\" class=\"dataframe\">\n",
       "  <thead>\n",
       "    <tr style=\"text-align: right;\">\n",
       "      <th></th>\n",
       "      <th>Province/State</th>\n",
       "      <th>Country/Region</th>\n",
       "      <th>Last Update</th>\n",
       "      <th>Confirmed</th>\n",
       "      <th>Deaths</th>\n",
       "      <th>Recovered</th>\n",
       "    </tr>\n",
       "  </thead>\n",
       "  <tbody>\n",
       "    <tr>\n",
       "      <th>0</th>\n",
       "      <td>Hubei</td>\n",
       "      <td>Mainland China</td>\n",
       "      <td>1/31/2020 19:00</td>\n",
       "      <td>7153</td>\n",
       "      <td>249</td>\n",
       "      <td>169</td>\n",
       "    </tr>\n",
       "    <tr>\n",
       "      <th>1</th>\n",
       "      <td>Zhejiang</td>\n",
       "      <td>Mainland China</td>\n",
       "      <td>1/31/2020 19:00</td>\n",
       "      <td>537</td>\n",
       "      <td></td>\n",
       "      <td>14</td>\n",
       "    </tr>\n",
       "    <tr>\n",
       "      <th>2</th>\n",
       "      <td>Guangdong</td>\n",
       "      <td>Mainland China</td>\n",
       "      <td>1/31/2020 19:00</td>\n",
       "      <td>436</td>\n",
       "      <td></td>\n",
       "      <td>10</td>\n",
       "    </tr>\n",
       "    <tr>\n",
       "      <th>3</th>\n",
       "      <td>Henan</td>\n",
       "      <td>Mainland China</td>\n",
       "      <td>1/31/2020 19:00</td>\n",
       "      <td>352</td>\n",
       "      <td>2</td>\n",
       "      <td>3</td>\n",
       "    </tr>\n",
       "    <tr>\n",
       "      <th>4</th>\n",
       "      <td>Hunan</td>\n",
       "      <td>Mainland China</td>\n",
       "      <td>1/31/2020 19:00</td>\n",
       "      <td>332</td>\n",
       "      <td></td>\n",
       "      <td>3</td>\n",
       "    </tr>\n",
       "  </tbody>\n",
       "</table>\n",
       "</div>"
      ],
      "text/plain": [
       "  Province/State  Country/Region      Last Update Confirmed Deaths Recovered\n",
       "0          Hubei  Mainland China  1/31/2020 19:00      7153    249       169\n",
       "1       Zhejiang  Mainland China  1/31/2020 19:00       537               14\n",
       "2      Guangdong  Mainland China  1/31/2020 19:00       436               10\n",
       "3          Henan  Mainland China  1/31/2020 19:00       352      2         3\n",
       "4          Hunan  Mainland China  1/31/2020 19:00       332                3"
      ]
     },
     "execution_count": 2,
     "metadata": {},
     "output_type": "execute_result"
    }
   ],
   "source": [
    "c_data_0.head()"
   ]
  },
  {
   "cell_type": "markdown",
   "metadata": {},
   "source": [
    "Connection works, test df is ok"
   ]
  },
  {
   "cell_type": "markdown",
   "metadata": {},
   "source": [
    "# Trying out the dataset"
   ]
  },
  {
   "cell_type": "code",
   "execution_count": 32,
   "metadata": {},
   "outputs": [],
   "source": [
    "pipe_df = pd.DataFrame()"
   ]
  },
  {
   "cell_type": "code",
   "execution_count": 13,
   "metadata": {},
   "outputs": [],
   "source": [
    "n_sheets = len(workbook.worksheets())"
   ]
  },
  {
   "cell_type": "code",
   "execution_count": 31,
   "metadata": {},
   "outputs": [],
   "source": [
    "n_sheets_new = len(workbook.worksheets())-10"
   ]
  },
  {
   "cell_type": "code",
   "execution_count": 33,
   "metadata": {},
   "outputs": [],
   "source": [
    "for i in range(n_sheets_new):\n",
    "    t_wb = workbook.get_worksheet(i)\n",
    "    t_s = t_wb.get_all_values()\n",
    "    pipe_df = pd.concat([pipe_df,pd.DataFrame(t_s[1:],columns=t_s[0])], axis = 0, ignore_index=True)"
   ]
  },
  {
   "cell_type": "code",
   "execution_count": 34,
   "metadata": {},
   "outputs": [],
   "source": [
    "pipe_df.to_csv('output_union_001.csv')"
   ]
  },
  {
   "cell_type": "markdown",
   "metadata": {},
   "source": [
    "* unioning all sheets does not work because different number of columns and mismatch col names.\n",
    "* alternatively union sheets starting from '27 january' sheet. No errors."
   ]
  },
  {
   "cell_type": "code",
   "execution_count": 29,
   "metadata": {
    "collapsed": true,
    "jupyter": {
     "outputs_hidden": true
    }
   },
   "outputs": [
    {
     "ename": "AttributeError",
     "evalue": "'NoneType' object has no attribute 'get_all_values'",
     "output_type": "error",
     "traceback": [
      "\u001b[1;31m---------------------------------------------------------------------------\u001b[0m",
      "\u001b[1;31mAttributeError\u001b[0m                            Traceback (most recent call last)",
      "\u001b[1;32m<ipython-input-29-f2d629671440>\u001b[0m in \u001b[0;36m<module>\u001b[1;34m\u001b[0m\n\u001b[0;32m      1\u001b[0m \u001b[1;32mfor\u001b[0m \u001b[0mi\u001b[0m \u001b[1;32min\u001b[0m \u001b[0mrange\u001b[0m\u001b[1;33m(\u001b[0m\u001b[0mn_sheets\u001b[0m\u001b[1;33m)\u001b[0m\u001b[1;33m:\u001b[0m\u001b[1;33m\u001b[0m\u001b[1;33m\u001b[0m\u001b[0m\n\u001b[0;32m      2\u001b[0m     \u001b[0mt_wb\u001b[0m \u001b[1;33m=\u001b[0m \u001b[0mworkbook\u001b[0m\u001b[1;33m.\u001b[0m\u001b[0mget_worksheet\u001b[0m\u001b[1;33m(\u001b[0m\u001b[0mi\u001b[0m\u001b[1;33m)\u001b[0m\u001b[1;33m\u001b[0m\u001b[1;33m\u001b[0m\u001b[0m\n\u001b[1;32m----> 3\u001b[1;33m     \u001b[0mt_s\u001b[0m \u001b[1;33m=\u001b[0m \u001b[0mt_wb\u001b[0m\u001b[1;33m.\u001b[0m\u001b[0mget_all_values\u001b[0m\u001b[1;33m(\u001b[0m\u001b[1;33m)\u001b[0m\u001b[1;33m\u001b[0m\u001b[1;33m\u001b[0m\u001b[0m\n\u001b[0m\u001b[0;32m      4\u001b[0m     \u001b[0mt_nm\u001b[0m \u001b[1;33m=\u001b[0m \u001b[1;34m'output_'\u001b[0m\u001b[1;33m+\u001b[0m\u001b[0mstr\u001b[0m\u001b[1;33m(\u001b[0m\u001b[0mi\u001b[0m\u001b[1;33m)\u001b[0m\u001b[1;33m+\u001b[0m\u001b[1;34m'.csv'\u001b[0m\u001b[1;33m\u001b[0m\u001b[1;33m\u001b[0m\u001b[0m\n\u001b[0;32m      5\u001b[0m     \u001b[0mpd\u001b[0m\u001b[1;33m.\u001b[0m\u001b[0mDataFrame\u001b[0m\u001b[1;33m(\u001b[0m\u001b[0mt_s\u001b[0m\u001b[1;33m[\u001b[0m\u001b[1;36m1\u001b[0m\u001b[1;33m:\u001b[0m\u001b[1;33m]\u001b[0m\u001b[1;33m,\u001b[0m\u001b[0mcolumns\u001b[0m\u001b[1;33m=\u001b[0m\u001b[0mt_s\u001b[0m\u001b[1;33m[\u001b[0m\u001b[1;36m0\u001b[0m\u001b[1;33m]\u001b[0m\u001b[1;33m)\u001b[0m\u001b[1;33m.\u001b[0m\u001b[0mto_csv\u001b[0m\u001b[1;33m(\u001b[0m\u001b[0mt_nm\u001b[0m\u001b[1;33m)\u001b[0m\u001b[1;33m\u001b[0m\u001b[1;33m\u001b[0m\u001b[0m\n",
      "\u001b[1;31mAttributeError\u001b[0m: 'NoneType' object has no attribute 'get_all_values'"
     ]
    }
   ],
   "source": [
    "for i in range(n_sheets):\n",
    "    t_wb = workbook.get_worksheet(i)\n",
    "    t_s = t_wb.get_all_values()\n",
    "    t_nm = 'output_'+str(i)+'.csv'\n",
    "    pd.DataFrame(t_s[1:],columns=t_s[0]).to_csv(t_nm)"
   ]
  },
  {
   "cell_type": "markdown",
   "metadata": {},
   "source": [
    "Download all sheets as backup"
   ]
  },
  {
   "cell_type": "code",
   "execution_count": 3,
   "metadata": {},
   "outputs": [
    {
     "data": {
      "text/plain": [
       "[<Worksheet 'Jan31_7pm' id:1562962385>,\n",
       " <Worksheet 'Jan31_2pm' id:527706386>,\n",
       " <Worksheet 'Jan30_930pm' id:1207243992>,\n",
       " <Worksheet 'Jan30_11am' id:1320052203>,\n",
       " <Worksheet 'Jan29_9pm' id:536002735>,\n",
       " <Worksheet 'Jan29_230pm' id:91004260>,\n",
       " <Worksheet 'Jan29_130pm' id:1368739505>,\n",
       " <Worksheet 'Jan28_11pm' id:174402790>,\n",
       " <Worksheet 'Jan28_6pm' id:1954658351>,\n",
       " <Worksheet 'Jan28_1pm' id:1703730149>,\n",
       " <Worksheet 'Jan27_830pm' id:1979823633>,\n",
       " <Worksheet 'Jan27_7pm' id:2089257782>,\n",
       " <Worksheet 'Jan27_9am' id:62708662>,\n",
       " <Worksheet 'Jan26_11pm' id:32656279>,\n",
       " <Worksheet 'Jan26_11am' id:430379785>,\n",
       " <Worksheet 'Jan25_10pm' id:1501063148>,\n",
       " <Worksheet 'Jan25_12pm' id:1380010768>,\n",
       " <Worksheet 'Jan25_12am' id:76578435>,\n",
       " <Worksheet 'Jan24_12pm' id:1511763698>,\n",
       " <Worksheet 'Jan24_12am' id:1389232671>,\n",
       " <Worksheet 'Jan23_12pm' id:142449061>,\n",
       " <Worksheet 'Jan22_12pm' id:638231677>,\n",
       " <Worksheet 'Jan22_12am' id:2102449870>]"
      ]
     },
     "execution_count": 3,
     "metadata": {},
     "output_type": "execute_result"
    }
   ],
   "source": [
    "workbook.worksheets()"
   ]
  },
  {
   "cell_type": "markdown",
   "metadata": {
    "jupyter": {
     "outputs_hidden": true
    }
   },
   "source": [
    "Check sheetnames"
   ]
  },
  {
   "cell_type": "markdown",
   "metadata": {},
   "source": [
    "###########################################"
   ]
  },
  {
   "cell_type": "markdown",
   "metadata": {},
   "source": [
    "# Cleaning and Unioning the whole dataset"
   ]
  },
  {
   "cell_type": "markdown",
   "metadata": {},
   "source": [
    "Transform 'x_[...]' sheets into a format that can be unioned with newer sheets\n",
    "\n",
    "* inspect unformated sheets and group edits"
   ]
  },
  {
   "cell_type": "code",
   "execution_count": 68,
   "metadata": {},
   "outputs": [],
   "source": [
    "x_sheets_list = [\n",
    "    'Jan26_11pm', #ok\n",
    "    'Jan26_11am', #(-[''Suspected'])\n",
    "    'Jan25_10pm', #(-[''Suspected'])\n",
    "    'Jan25_12pm', #(-[''Suspected'])\n",
    "    'Jan25_12am', #(-[''Suspected'])\n",
    "    'Jan24_12pm', #(-[''Suspected'])\n",
    "    'Jan24_12am', #(-[''Suspected'])\n",
    "    'Jan23_12pm', #(-[''Suspected']) ('Demised' to 'Deaths')\n",
    "    'Jan22_12pm', #(-[''Suspected'])\n",
    "    'Jan22_12am' # (-[''Suspected']) (chg. 'Data last updated' to 'Last Update')\n",
    "]\n",
    "\n",
    "x_sheets_list_01 = [\n",
    "    'Jan26_11am', #(-[''Suspected'])\n",
    "    'Jan25_10pm', #(-[''Suspected'])\n",
    "    'Jan25_12pm', #(-[''Suspected'])\n",
    "    'Jan25_12am', #(-[''Suspected'])\n",
    "    'Jan24_12pm', #(-[''Suspected'])\n",
    "    'Jan24_12am', #(-[''Suspected'])\n",
    "    'Jan22_12pm' #(-[''Suspected'])\n",
    "]"
   ]
  },
  {
   "cell_type": "markdown",
   "metadata": {},
   "source": [
    "* transform sheets\n",
    "* union into newer sheets"
   ]
  },
  {
   "cell_type": "code",
   "execution_count": 72,
   "metadata": {},
   "outputs": [],
   "source": [
    "#create empty dataframes to hold sheets\n",
    "data_transf_df = pd.DataFrame(columns=['Province/State', 'Country/Region', 'Last Update', 'Confirmed','Deaths', 'Recovered'])\n",
    "data_Okformat_df = pd.DataFrame()\n",
    "\n",
    "#Select sheets with Ok format. Last 10 sheets are in non-standard format. I loop over the workbook with a range that is -10 shorter than the full len of the workbook.\n",
    "\n",
    "n_sheets_new = len(workbook.worksheets())-10\n",
    "\n",
    "#load sheets with ok format (starting from 27th january)\n",
    "for i in range(n_sheets_new):\n",
    "    t_wb = workbook.get_worksheet(i)\n",
    "    t_s = t_wb.get_all_values()\n",
    "    data_Okformat_df = pd.concat([data_Okformat_df,pd.DataFrame(t_s[1:],columns=t_s[0])], axis = 0, ignore_index=True)\n",
    "    \n",
    "#Load and transform bad sheets (22-26th january)\n",
    "\n",
    "for i in x_sheets_list:\n",
    "    if i in x_sheets_list_01:\n",
    "        t_ws = workbook.worksheet(i)\n",
    "        t_val = t_ws.get_all_values()\n",
    "        t_df = pd.DataFrame(t_val[1:],columns=t_val[0])\n",
    "        t_df = t_df.drop(columns=['Suspected'])\n",
    "        #t_frames = [data_transf_df, t_df]\n",
    "        data_transf_df = pd.concat([data_transf_df, t_df], axis = 0, ignore_index=True, sort=True)\n",
    "    elif i == 'Jan23_12pm':\n",
    "        t_ws = workbook.worksheet(i)\n",
    "        t_val = t_ws.get_all_values()\n",
    "        t_df = pd.DataFrame(t_val[1:],columns=t_val[0])\n",
    "        t_df = t_df.drop(columns=['Suspected'])\n",
    "        t_df = t_df.rename(columns={'Demised':'Deaths'})\n",
    "        data_transf_df = pd.concat([data_transf_df, t_df], axis = 0, ignore_index=True, sort=True)\n",
    "    elif i == 'Jan22_12am':\n",
    "        t_ws = workbook.worksheet(i)\n",
    "        t_val = t_ws.get_all_values()\n",
    "        t_df = pd.DataFrame(t_val[1:],columns=t_val[0])\n",
    "        t_df = t_df.drop(columns=['Suspected'])\n",
    "        t_df = t_df.rename(columns={'Data last updated':'Last Update'})\n",
    "        data_transf_df = pd.concat([data_transf_df, t_df], axis = 0, ignore_index=True, sort=True)\n",
    "        \n",
    "#Union two above DataFrames\n",
    "\n",
    "complete_union_df = pd.concat([data_Okformat_df, data_transf_df], axis = 0, ignore_index=True, sort=True)"
   ]
  },
  {
   "cell_type": "markdown",
   "metadata": {},
   "source": [
    "* check data"
   ]
  },
  {
   "cell_type": "code",
   "execution_count": 74,
   "metadata": {},
   "outputs": [
    {
     "data": {
      "text/html": [
       "<div>\n",
       "<style scoped>\n",
       "    .dataframe tbody tr th:only-of-type {\n",
       "        vertical-align: middle;\n",
       "    }\n",
       "\n",
       "    .dataframe tbody tr th {\n",
       "        vertical-align: top;\n",
       "    }\n",
       "\n",
       "    .dataframe thead th {\n",
       "        text-align: right;\n",
       "    }\n",
       "</style>\n",
       "<table border=\"1\" class=\"dataframe\">\n",
       "  <thead>\n",
       "    <tr style=\"text-align: right;\">\n",
       "      <th></th>\n",
       "      <th>Confirmed</th>\n",
       "      <th>Country</th>\n",
       "      <th>Country/Region</th>\n",
       "      <th>Date last updated</th>\n",
       "      <th>Deaths</th>\n",
       "      <th>Last Update</th>\n",
       "      <th>Province/State</th>\n",
       "      <th>Recovered</th>\n",
       "    </tr>\n",
       "  </thead>\n",
       "  <tbody>\n",
       "    <tr>\n",
       "      <th>count</th>\n",
       "      <td>1078</td>\n",
       "      <td>65</td>\n",
       "      <td>1013</td>\n",
       "      <td>27</td>\n",
       "      <td>1013</td>\n",
       "      <td>1051</td>\n",
       "      <td>1078</td>\n",
       "      <td>1013</td>\n",
       "    </tr>\n",
       "    <tr>\n",
       "      <th>unique</th>\n",
       "      <td>150</td>\n",
       "      <td>6</td>\n",
       "      <td>31</td>\n",
       "      <td>1</td>\n",
       "      <td>14</td>\n",
       "      <td>23</td>\n",
       "      <td>46</td>\n",
       "      <td>25</td>\n",
       "    </tr>\n",
       "    <tr>\n",
       "      <th>top</th>\n",
       "      <td>1</td>\n",
       "      <td>China</td>\n",
       "      <td>Mainland China</td>\n",
       "      <td>1/21/2020</td>\n",
       "      <td></td>\n",
       "      <td>1/25/2020 12:00 PM</td>\n",
       "      <td></td>\n",
       "      <td></td>\n",
       "    </tr>\n",
       "    <tr>\n",
       "      <th>freq</th>\n",
       "      <td>179</td>\n",
       "      <td>57</td>\n",
       "      <td>605</td>\n",
       "      <td>27</td>\n",
       "      <td>891</td>\n",
       "      <td>86</td>\n",
       "      <td>227</td>\n",
       "      <td>774</td>\n",
       "    </tr>\n",
       "  </tbody>\n",
       "</table>\n",
       "</div>"
      ],
      "text/plain": [
       "       Confirmed Country  Country/Region Date last updated Deaths  \\\n",
       "count       1078      65            1013                27   1013   \n",
       "unique       150       6              31                 1     14   \n",
       "top            1   China  Mainland China         1/21/2020          \n",
       "freq         179      57             605                27    891   \n",
       "\n",
       "               Last Update Province/State Recovered  \n",
       "count                 1051           1078      1013  \n",
       "unique                  23             46        25  \n",
       "top     1/25/2020 12:00 PM                           \n",
       "freq                    86            227       774  "
      ]
     },
     "execution_count": 74,
     "metadata": {},
     "output_type": "execute_result"
    }
   ],
   "source": [
    "complete_union_df.describe()"
   ]
  },
  {
   "cell_type": "code",
   "execution_count": 76,
   "metadata": {},
   "outputs": [
    {
     "data": {
      "text/html": [
       "<div>\n",
       "<style scoped>\n",
       "    .dataframe tbody tr th:only-of-type {\n",
       "        vertical-align: middle;\n",
       "    }\n",
       "\n",
       "    .dataframe tbody tr th {\n",
       "        vertical-align: top;\n",
       "    }\n",
       "\n",
       "    .dataframe thead th {\n",
       "        text-align: right;\n",
       "    }\n",
       "</style>\n",
       "<table border=\"1\" class=\"dataframe\">\n",
       "  <thead>\n",
       "    <tr style=\"text-align: right;\">\n",
       "      <th></th>\n",
       "      <th>Confirmed</th>\n",
       "      <th>Country</th>\n",
       "      <th>Country/Region</th>\n",
       "      <th>Date last updated</th>\n",
       "      <th>Deaths</th>\n",
       "      <th>Last Update</th>\n",
       "      <th>Province/State</th>\n",
       "      <th>Recovered</th>\n",
       "    </tr>\n",
       "  </thead>\n",
       "  <tbody>\n",
       "    <tr>\n",
       "      <th>0</th>\n",
       "      <td>7153</td>\n",
       "      <td>NaN</td>\n",
       "      <td>Mainland China</td>\n",
       "      <td>NaN</td>\n",
       "      <td>249</td>\n",
       "      <td>1/31/2020 19:00</td>\n",
       "      <td>Hubei</td>\n",
       "      <td>169</td>\n",
       "    </tr>\n",
       "    <tr>\n",
       "      <th>1</th>\n",
       "      <td>537</td>\n",
       "      <td>NaN</td>\n",
       "      <td>Mainland China</td>\n",
       "      <td>NaN</td>\n",
       "      <td></td>\n",
       "      <td>1/31/2020 19:00</td>\n",
       "      <td>Zhejiang</td>\n",
       "      <td>14</td>\n",
       "    </tr>\n",
       "    <tr>\n",
       "      <th>2</th>\n",
       "      <td>436</td>\n",
       "      <td>NaN</td>\n",
       "      <td>Mainland China</td>\n",
       "      <td>NaN</td>\n",
       "      <td></td>\n",
       "      <td>1/31/2020 19:00</td>\n",
       "      <td>Guangdong</td>\n",
       "      <td>10</td>\n",
       "    </tr>\n",
       "    <tr>\n",
       "      <th>3</th>\n",
       "      <td>352</td>\n",
       "      <td>NaN</td>\n",
       "      <td>Mainland China</td>\n",
       "      <td>NaN</td>\n",
       "      <td>2</td>\n",
       "      <td>1/31/2020 19:00</td>\n",
       "      <td>Henan</td>\n",
       "      <td>3</td>\n",
       "    </tr>\n",
       "    <tr>\n",
       "      <th>4</th>\n",
       "      <td>332</td>\n",
       "      <td>NaN</td>\n",
       "      <td>Mainland China</td>\n",
       "      <td>NaN</td>\n",
       "      <td></td>\n",
       "      <td>1/31/2020 19:00</td>\n",
       "      <td>Hunan</td>\n",
       "      <td>3</td>\n",
       "    </tr>\n",
       "  </tbody>\n",
       "</table>\n",
       "</div>"
      ],
      "text/plain": [
       "  Confirmed Country  Country/Region Date last updated Deaths      Last Update  \\\n",
       "0      7153     NaN  Mainland China               NaN    249  1/31/2020 19:00   \n",
       "1       537     NaN  Mainland China               NaN         1/31/2020 19:00   \n",
       "2       436     NaN  Mainland China               NaN         1/31/2020 19:00   \n",
       "3       352     NaN  Mainland China               NaN      2  1/31/2020 19:00   \n",
       "4       332     NaN  Mainland China               NaN         1/31/2020 19:00   \n",
       "\n",
       "  Province/State Recovered  \n",
       "0          Hubei       169  \n",
       "1       Zhejiang        14  \n",
       "2      Guangdong        10  \n",
       "3          Henan         3  \n",
       "4          Hunan         3  "
      ]
     },
     "execution_count": 76,
     "metadata": {},
     "output_type": "execute_result"
    }
   ],
   "source": [
    "complete_union_df.head()"
   ]
  },
  {
   "cell_type": "code",
   "execution_count": 77,
   "metadata": {},
   "outputs": [
    {
     "data": {
      "text/html": [
       "<div>\n",
       "<style scoped>\n",
       "    .dataframe tbody tr th:only-of-type {\n",
       "        vertical-align: middle;\n",
       "    }\n",
       "\n",
       "    .dataframe tbody tr th {\n",
       "        vertical-align: top;\n",
       "    }\n",
       "\n",
       "    .dataframe thead th {\n",
       "        text-align: right;\n",
       "    }\n",
       "</style>\n",
       "<table border=\"1\" class=\"dataframe\">\n",
       "  <thead>\n",
       "    <tr style=\"text-align: right;\">\n",
       "      <th></th>\n",
       "      <th>Confirmed</th>\n",
       "      <th>Country</th>\n",
       "      <th>Country/Region</th>\n",
       "      <th>Date last updated</th>\n",
       "      <th>Deaths</th>\n",
       "      <th>Last Update</th>\n",
       "      <th>Province/State</th>\n",
       "      <th>Recovered</th>\n",
       "    </tr>\n",
       "  </thead>\n",
       "  <tbody>\n",
       "    <tr>\n",
       "      <th>1073</th>\n",
       "      <td></td>\n",
       "      <td>China</td>\n",
       "      <td>NaN</td>\n",
       "      <td>1/21/2020</td>\n",
       "      <td>NaN</td>\n",
       "      <td>NaN</td>\n",
       "      <td>Heilongjiang</td>\n",
       "      <td>NaN</td>\n",
       "    </tr>\n",
       "    <tr>\n",
       "      <th>1074</th>\n",
       "      <td>1</td>\n",
       "      <td>Japan</td>\n",
       "      <td>NaN</td>\n",
       "      <td>1/21/2020</td>\n",
       "      <td>NaN</td>\n",
       "      <td>NaN</td>\n",
       "      <td></td>\n",
       "      <td>NaN</td>\n",
       "    </tr>\n",
       "    <tr>\n",
       "      <th>1075</th>\n",
       "      <td>2</td>\n",
       "      <td>Thailand</td>\n",
       "      <td>NaN</td>\n",
       "      <td>1/21/2020</td>\n",
       "      <td>NaN</td>\n",
       "      <td>NaN</td>\n",
       "      <td></td>\n",
       "      <td>NaN</td>\n",
       "    </tr>\n",
       "    <tr>\n",
       "      <th>1076</th>\n",
       "      <td>1</td>\n",
       "      <td>South Korea</td>\n",
       "      <td>NaN</td>\n",
       "      <td>1/21/2020</td>\n",
       "      <td>NaN</td>\n",
       "      <td>NaN</td>\n",
       "      <td></td>\n",
       "      <td>NaN</td>\n",
       "    </tr>\n",
       "    <tr>\n",
       "      <th>1077</th>\n",
       "      <td>1</td>\n",
       "      <td>United States</td>\n",
       "      <td>NaN</td>\n",
       "      <td>1/21/2020</td>\n",
       "      <td>NaN</td>\n",
       "      <td>NaN</td>\n",
       "      <td>Washington</td>\n",
       "      <td>NaN</td>\n",
       "    </tr>\n",
       "  </tbody>\n",
       "</table>\n",
       "</div>"
      ],
      "text/plain": [
       "     Confirmed        Country Country/Region Date last updated Deaths  \\\n",
       "1073                    China            NaN         1/21/2020    NaN   \n",
       "1074         1          Japan            NaN         1/21/2020    NaN   \n",
       "1075         2       Thailand            NaN         1/21/2020    NaN   \n",
       "1076         1    South Korea            NaN         1/21/2020    NaN   \n",
       "1077         1  United States            NaN         1/21/2020    NaN   \n",
       "\n",
       "     Last Update Province/State Recovered  \n",
       "1073         NaN   Heilongjiang       NaN  \n",
       "1074         NaN                      NaN  \n",
       "1075         NaN                      NaN  \n",
       "1076         NaN                      NaN  \n",
       "1077         NaN     Washington       NaN  "
      ]
     },
     "execution_count": 77,
     "metadata": {},
     "output_type": "execute_result"
    }
   ],
   "source": [
    "complete_union_df.tail()"
   ]
  },
  {
   "cell_type": "markdown",
   "metadata": {},
   "source": [
    "### Write output"
   ]
  },
  {
   "cell_type": "code",
   "execution_count": 78,
   "metadata": {},
   "outputs": [],
   "source": [
    "complete_union_df.to_csv('complete_union.csv')"
   ]
  }
 ],
 "metadata": {
  "kernelspec": {
   "display_name": "Python 3",
   "language": "python",
   "name": "python3"
  },
  "language_info": {
   "codemirror_mode": {
    "name": "ipython",
    "version": 3
   },
   "file_extension": ".py",
   "mimetype": "text/x-python",
   "name": "python",
   "nbconvert_exporter": "python",
   "pygments_lexer": "ipython3",
   "version": "3.7.5"
  }
 },
 "nbformat": 4,
 "nbformat_minor": 4
}
