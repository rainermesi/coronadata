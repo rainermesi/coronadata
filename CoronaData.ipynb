{
 "cells": [
  {
   "cell_type": "markdown",
   "metadata": {},
   "source": [
    "# Setup"
   ]
  },
  {
   "cell_type": "markdown",
   "metadata": {},
   "source": [
    "required gspred and oauth\n",
    "\n",
    "Go to Google Develpment console and create a new project. Go to apis and services and enable google sheets. Go to credentials and create a service account. Access level Viewer. Create and download .json key file. Save keyfile to your project folder. "
   ]
  },
  {
   "cell_type": "code",
   "execution_count": 2,
   "metadata": {},
   "outputs": [],
   "source": [
    "from oauth2client.service_account import ServiceAccountCredentials\n",
    "import gspread\n",
    "import pandas as pd\n",
    "import matplotlib.pyplot as plt\n",
    "%matplotlib inline"
   ]
  },
  {
   "cell_type": "code",
   "execution_count": 141,
   "metadata": {},
   "outputs": [],
   "source": [
    "scope = [\n",
    "    'https://www.googleapis.com/auth/spreadsheets'\n",
    "]\n",
    "\n",
    "GOOGLE_KEY_FILE = 'my_api_key.json'\n",
    "\n",
    "credentials = ServiceAccountCredentials.from_json_keyfile_name(GOOGLE_KEY_FILE, scope)\n",
    "gc = gspread.authorize(credentials)\n",
    "\n",
    "workbook_key = '1yZv9w9zRKwrGTaR-YzmAqMefw4wMlaXocejdxZaTs6w' \n",
    "workbook = gc.open_by_key(workbook_key)\n",
    "sheet = workbook.get_worksheet(0)\n",
    "values = sheet.get_all_values()\n",
    "c_data_0 = pd.DataFrame(values[1:],columns=values[0])"
   ]
  },
  {
   "cell_type": "code",
   "execution_count": 139,
   "metadata": {},
   "outputs": [
    {
     "data": {
      "text/plain": [
       "[<Worksheet 'Feb01_11pm' id:561110064>,\n",
       " <Worksheet 'Feb01_6pm' id:796970490>,\n",
       " <Worksheet 'Feb01_10am' id:1525235828>,\n",
       " <Worksheet 'Jan31_7pm' id:1562962385>,\n",
       " <Worksheet 'Jan31_2pm' id:527706386>,\n",
       " <Worksheet 'Jan30_930pm' id:1207243992>,\n",
       " <Worksheet 'Jan30_11am' id:1320052203>,\n",
       " <Worksheet 'Jan29_9pm' id:536002735>,\n",
       " <Worksheet 'Jan29_230pm' id:91004260>,\n",
       " <Worksheet 'Jan29_130pm' id:1368739505>,\n",
       " <Worksheet 'Jan28_11pm' id:174402790>,\n",
       " <Worksheet 'Jan28_6pm' id:1954658351>,\n",
       " <Worksheet 'Jan28_1pm' id:1703730149>,\n",
       " <Worksheet 'Jan27_830pm' id:1979823633>,\n",
       " <Worksheet 'Jan27_7pm' id:2089257782>,\n",
       " <Worksheet 'Jan27_9am' id:62708662>,\n",
       " <Worksheet 'Jan26_11pm' id:32656279>,\n",
       " <Worksheet 'Jan26_11am' id:430379785>,\n",
       " <Worksheet 'Jan25_10pm' id:1501063148>,\n",
       " <Worksheet 'Jan25_12pm' id:1380010768>,\n",
       " <Worksheet 'Jan25_12am' id:76578435>,\n",
       " <Worksheet 'Jan24_12pm' id:1511763698>,\n",
       " <Worksheet 'Jan24_12am' id:1389232671>,\n",
       " <Worksheet 'Jan23_12pm' id:142449061>,\n",
       " <Worksheet 'Jan22_12pm' id:638231677>,\n",
       " <Worksheet 'Jan22_12am' id:2102449870>]"
      ]
     },
     "execution_count": 139,
     "metadata": {},
     "output_type": "execute_result"
    }
   ],
   "source": [
    "workbook.worksheets()"
   ]
  },
  {
   "cell_type": "code",
   "execution_count": 142,
   "metadata": {},
   "outputs": [
    {
     "data": {
      "text/html": [
       "<div>\n",
       "<style scoped>\n",
       "    .dataframe tbody tr th:only-of-type {\n",
       "        vertical-align: middle;\n",
       "    }\n",
       "\n",
       "    .dataframe tbody tr th {\n",
       "        vertical-align: top;\n",
       "    }\n",
       "\n",
       "    .dataframe thead th {\n",
       "        text-align: right;\n",
       "    }\n",
       "</style>\n",
       "<table border=\"1\" class=\"dataframe\">\n",
       "  <thead>\n",
       "    <tr style=\"text-align: right;\">\n",
       "      <th></th>\n",
       "      <th>Province/State</th>\n",
       "      <th>Country/Region</th>\n",
       "      <th>Last Update</th>\n",
       "      <th>Confirmed</th>\n",
       "      <th>Deaths</th>\n",
       "      <th>Recovered</th>\n",
       "    </tr>\n",
       "  </thead>\n",
       "  <tbody>\n",
       "    <tr>\n",
       "      <th>0</th>\n",
       "      <td>Hubei</td>\n",
       "      <td>Mainland China</td>\n",
       "      <td>2/1/2020 23:33</td>\n",
       "      <td>9074</td>\n",
       "      <td>294</td>\n",
       "      <td>215</td>\n",
       "    </tr>\n",
       "    <tr>\n",
       "      <th>1</th>\n",
       "      <td>Zhejiang</td>\n",
       "      <td>Mainland China</td>\n",
       "      <td>2/2/2020 2:13</td>\n",
       "      <td>661</td>\n",
       "      <td>0</td>\n",
       "      <td>23</td>\n",
       "    </tr>\n",
       "    <tr>\n",
       "      <th>2</th>\n",
       "      <td>Guangdong</td>\n",
       "      <td>Mainland China</td>\n",
       "      <td>2/2/2020 1:23</td>\n",
       "      <td>604</td>\n",
       "      <td>0</td>\n",
       "      <td>14</td>\n",
       "    </tr>\n",
       "    <tr>\n",
       "      <th>3</th>\n",
       "      <td>Henan</td>\n",
       "      <td>Mainland China</td>\n",
       "      <td>2/2/2020 0:53</td>\n",
       "      <td>493</td>\n",
       "      <td>2</td>\n",
       "      <td>4</td>\n",
       "    </tr>\n",
       "    <tr>\n",
       "      <th>4</th>\n",
       "      <td>Hunan</td>\n",
       "      <td>Mainland China</td>\n",
       "      <td>2/2/2020 1:53</td>\n",
       "      <td>463</td>\n",
       "      <td>0</td>\n",
       "      <td>8</td>\n",
       "    </tr>\n",
       "  </tbody>\n",
       "</table>\n",
       "</div>"
      ],
      "text/plain": [
       "  Province/State  Country/Region     Last Update Confirmed Deaths Recovered\n",
       "0          Hubei  Mainland China  2/1/2020 23:33      9074    294       215\n",
       "1       Zhejiang  Mainland China   2/2/2020 2:13       661      0        23\n",
       "2      Guangdong  Mainland China   2/2/2020 1:23       604      0        14\n",
       "3          Henan  Mainland China   2/2/2020 0:53       493      2         4\n",
       "4          Hunan  Mainland China   2/2/2020 1:53       463      0         8"
      ]
     },
     "execution_count": 142,
     "metadata": {},
     "output_type": "execute_result"
    }
   ],
   "source": [
    "c_data_0.head()"
   ]
  },
  {
   "cell_type": "markdown",
   "metadata": {},
   "source": [
    "Connection works, test df is ok"
   ]
  },
  {
   "cell_type": "markdown",
   "metadata": {},
   "source": [
    "# Cleaning and Unioning the whole dataset"
   ]
  },
  {
   "cell_type": "markdown",
   "metadata": {},
   "source": [
    "Transform 'x_[...]' sheets into a format that can be unioned with newer sheets\n",
    "\n",
    "* inspect unformated sheets and group edits"
   ]
  },
  {
   "cell_type": "code",
   "execution_count": 128,
   "metadata": {},
   "outputs": [],
   "source": [
    "#Select all sheets\n",
    "\n",
    "all_sheet_list =  []\n",
    "\n",
    "for i in workbook.worksheets():\n",
    "    all_sheet_list.append(i.title) \n",
    "\n",
    "#Select all bad sheets (that are known)    \n",
    "    \n",
    "bad_sheet_list = [\n",
    "    'Feb01_6pm',  # special case - drop last column: (-['Quick note: Starting from this tab, our map is updating (almost) in real time (China data - at least once per hour; non China data - several times per day). This table is planning to be updated twice a day. The discrepancy between the map and this sheet is expected. Sorry for any confusion and inconvenience.'])\n",
    "    #'Jan26_11pm', #ok\n",
    "    'Jan26_11am', #(-[''Suspected'])\n",
    "    'Jan25_10pm', #(-[''Suspected'])\n",
    "    'Jan25_12pm', #(-[''Suspected'])\n",
    "    'Jan25_12am', #(-[''Suspected'])\n",
    "    'Jan24_12pm', #(-[''Suspected'])\n",
    "    'Jan24_12am', #(-[''Suspected'])\n",
    "    'Jan23_12pm', # special case - (-[''Suspected']) ('Demised' to 'Deaths')\n",
    "    'Jan22_12pm', #(-[''Suspected']) (chg. 'Data last updated' to 'Last Update')\n",
    "    'Jan22_12am'  # special case - (-[''Suspected']) (chg. 'Data last updated' to 'Last Update')\n",
    "]\n",
    "\n",
    "#Sub-selection of similar bad sheets with only 1 extra column\n",
    "\n",
    "bad_sheet_list_01 = [\n",
    "    'Jan26_11am', #(-[''Suspected'])\n",
    "    'Jan25_10pm', #(-[''Suspected'])\n",
    "    'Jan25_12pm', #(-[''Suspected'])\n",
    "    'Jan25_12am', #(-[''Suspected'])\n",
    "    'Jan24_12pm', #(-[''Suspected'])\n",
    "    'Jan24_12am' #(-[''Suspected'])\n",
    "]\n",
    "\n",
    "#Select good sheets w. list comprehension\n",
    "\n",
    "good_sheet_list = [sheet for sheet in all_sheet_list if sheet not in bad_sheet_list]"
   ]
  },
  {
   "cell_type": "markdown",
   "metadata": {},
   "source": [
    "* transform sheets\n",
    "* union into complete set"
   ]
  },
  {
   "cell_type": "code",
   "execution_count": 129,
   "metadata": {},
   "outputs": [],
   "source": [
    "#create empty dataframes to hold sheets\n",
    "bad_data_df = pd.DataFrame(columns=['Province/State', 'Country/Region', 'Last Update', 'Confirmed','Deaths', 'Recovered'])\n",
    "good_data_df = pd.DataFrame(columns=['Province/State', 'Country/Region', 'Last Update', 'Confirmed','Deaths', 'Recovered'])\n",
    "\n",
    "#load sheets with ok format\n",
    "for i in good_sheet_list:\n",
    "    temp_ws = workbook.worksheet(i)\n",
    "    temp_val = temp_ws.get_all_values()\n",
    "    temp_df = pd.DataFrame(temp_val[1:],columns=temp_val[0])\n",
    "    #print(i)\n",
    "    #print(temp_df.head())\n",
    "    good_data_df = pd.concat([good_data_df, temp_df], axis = 0, ignore_index=True, sort=True)\n",
    "    \n",
    "#Load and transform bad sheets\n",
    "\n",
    "for i in bad_sheet_list:\n",
    "    if i in bad_sheet_list_01:\n",
    "        temp_ws = workbook.worksheet(i)\n",
    "        temp_val = temp_ws.get_all_values()\n",
    "        temp_df = pd.DataFrame(temp_val[1:],columns=temp_val[0])\n",
    "        temp_df = temp_df.drop(columns=['Suspected'])\n",
    "        bad_data_df = pd.concat([bad_data_df, temp_df], axis = 0, ignore_index=True, sort=True)\n",
    "    elif i == 'Feb01_6pm':\n",
    "        temp_ws = workbook.worksheet(i)\n",
    "        temp_val = temp_ws.get_all_values()\n",
    "        temp_df = pd.DataFrame(temp_val[1:],columns=temp_val[0])\n",
    "        temp_df = temp_df[['Province/State', 'Country/Region', 'Last Update', 'Confirmed', 'Deaths', 'Recovered']]\n",
    "        bad_data_df = pd.concat([bad_data_df, temp_df], axis = 0, ignore_index=True, sort=True)\n",
    "    elif i == 'Jan23_12pm':\n",
    "        temp_ws = workbook.worksheet(i)\n",
    "        temp_val = temp_ws.get_all_values()\n",
    "        temp_df = pd.DataFrame(temp_val[1:],columns=temp_val[0])\n",
    "        temp_df = temp_df.drop(columns=['Suspected'])\n",
    "        temp_df = temp_df.rename(columns={'Demised':'Deaths'})\n",
    "        bad_data_df = pd.concat([bad_data_df, temp_df], axis = 0, ignore_index=True, sort=True)\n",
    "    elif i in ['Jan22_12am','Jan22_12pm']:\n",
    "        temp_ws = workbook.worksheet(i)\n",
    "        temp_val = temp_ws.get_all_values()\n",
    "        temp_df = pd.DataFrame(temp_val[1:],columns=temp_val[0])\n",
    "        temp_df = temp_df.drop(columns=['Suspected'])\n",
    "        temp_df = temp_df.rename(columns={'Date last updated':'Last Update'})\n",
    "        temp_df = temp_df.rename(columns={'Country':'Country/Region'})\n",
    "        bad_data_df = pd.concat([bad_data_df, temp_df], axis = 0, ignore_index=True, sort=True)\n",
    "        \n",
    "#Union two above DataFrames\n",
    "\n",
    "complete_union_df = pd.concat([good_data_df, bad_data_df], axis = 0, ignore_index=True, sort=True)"
   ]
  },
  {
   "cell_type": "markdown",
   "metadata": {},
   "source": [
    "* check data"
   ]
  },
  {
   "cell_type": "code",
   "execution_count": 130,
   "metadata": {},
   "outputs": [
    {
     "data": {
      "text/html": [
       "<div>\n",
       "<style scoped>\n",
       "    .dataframe tbody tr th:only-of-type {\n",
       "        vertical-align: middle;\n",
       "    }\n",
       "\n",
       "    .dataframe tbody tr th {\n",
       "        vertical-align: top;\n",
       "    }\n",
       "\n",
       "    .dataframe thead th {\n",
       "        text-align: right;\n",
       "    }\n",
       "</style>\n",
       "<table border=\"1\" class=\"dataframe\">\n",
       "  <thead>\n",
       "    <tr style=\"text-align: right;\">\n",
       "      <th></th>\n",
       "      <th>Confirmed</th>\n",
       "      <th>Country/Region</th>\n",
       "      <th>Deaths</th>\n",
       "      <th>Last Update</th>\n",
       "      <th>Province/State</th>\n",
       "      <th>Recovered</th>\n",
       "    </tr>\n",
       "  </thead>\n",
       "  <tbody>\n",
       "    <tr>\n",
       "      <th>count</th>\n",
       "      <td>1323</td>\n",
       "      <td>1323</td>\n",
       "      <td>1258</td>\n",
       "      <td>1323</td>\n",
       "      <td>1323</td>\n",
       "      <td>1258</td>\n",
       "    </tr>\n",
       "    <tr>\n",
       "      <th>unique</th>\n",
       "      <td>177</td>\n",
       "      <td>33</td>\n",
       "      <td>16</td>\n",
       "      <td>75</td>\n",
       "      <td>54</td>\n",
       "      <td>32</td>\n",
       "    </tr>\n",
       "    <tr>\n",
       "      <th>top</th>\n",
       "      <td>1</td>\n",
       "      <td>Mainland China</td>\n",
       "      <td></td>\n",
       "      <td>1/25/2020 12:00 PM</td>\n",
       "      <td></td>\n",
       "      <td></td>\n",
       "    </tr>\n",
       "    <tr>\n",
       "      <th>freq</th>\n",
       "      <td>230</td>\n",
       "      <td>728</td>\n",
       "      <td>988</td>\n",
       "      <td>86</td>\n",
       "      <td>295</td>\n",
       "      <td>850</td>\n",
       "    </tr>\n",
       "  </tbody>\n",
       "</table>\n",
       "</div>"
      ],
      "text/plain": [
       "       Confirmed  Country/Region Deaths         Last Update Province/State  \\\n",
       "count       1323            1323   1258                1323           1323   \n",
       "unique       177              33     16                  75             54   \n",
       "top            1  Mainland China         1/25/2020 12:00 PM                  \n",
       "freq         230             728    988                  86            295   \n",
       "\n",
       "       Recovered  \n",
       "count       1258  \n",
       "unique        32  \n",
       "top               \n",
       "freq         850  "
      ]
     },
     "execution_count": 130,
     "metadata": {},
     "output_type": "execute_result"
    }
   ],
   "source": [
    "complete_union_df.describe()"
   ]
  },
  {
   "cell_type": "code",
   "execution_count": 131,
   "metadata": {},
   "outputs": [
    {
     "data": {
      "text/html": [
       "<div>\n",
       "<style scoped>\n",
       "    .dataframe tbody tr th:only-of-type {\n",
       "        vertical-align: middle;\n",
       "    }\n",
       "\n",
       "    .dataframe tbody tr th {\n",
       "        vertical-align: top;\n",
       "    }\n",
       "\n",
       "    .dataframe thead th {\n",
       "        text-align: right;\n",
       "    }\n",
       "</style>\n",
       "<table border=\"1\" class=\"dataframe\">\n",
       "  <thead>\n",
       "    <tr style=\"text-align: right;\">\n",
       "      <th></th>\n",
       "      <th>Confirmed</th>\n",
       "      <th>Country/Region</th>\n",
       "      <th>Deaths</th>\n",
       "      <th>Last Update</th>\n",
       "      <th>Province/State</th>\n",
       "      <th>Recovered</th>\n",
       "    </tr>\n",
       "  </thead>\n",
       "  <tbody>\n",
       "    <tr>\n",
       "      <th>0</th>\n",
       "      <td>9074</td>\n",
       "      <td>Mainland China</td>\n",
       "      <td>294</td>\n",
       "      <td>2/1/2020 23:33</td>\n",
       "      <td>Hubei</td>\n",
       "      <td>215</td>\n",
       "    </tr>\n",
       "    <tr>\n",
       "      <th>1</th>\n",
       "      <td>661</td>\n",
       "      <td>Mainland China</td>\n",
       "      <td>0</td>\n",
       "      <td>2/2/2020 2:13</td>\n",
       "      <td>Zhejiang</td>\n",
       "      <td>23</td>\n",
       "    </tr>\n",
       "    <tr>\n",
       "      <th>2</th>\n",
       "      <td>604</td>\n",
       "      <td>Mainland China</td>\n",
       "      <td>0</td>\n",
       "      <td>2/2/2020 1:23</td>\n",
       "      <td>Guangdong</td>\n",
       "      <td>14</td>\n",
       "    </tr>\n",
       "    <tr>\n",
       "      <th>3</th>\n",
       "      <td>493</td>\n",
       "      <td>Mainland China</td>\n",
       "      <td>2</td>\n",
       "      <td>2/2/2020 0:53</td>\n",
       "      <td>Henan</td>\n",
       "      <td>4</td>\n",
       "    </tr>\n",
       "    <tr>\n",
       "      <th>4</th>\n",
       "      <td>463</td>\n",
       "      <td>Mainland China</td>\n",
       "      <td>0</td>\n",
       "      <td>2/2/2020 1:53</td>\n",
       "      <td>Hunan</td>\n",
       "      <td>8</td>\n",
       "    </tr>\n",
       "  </tbody>\n",
       "</table>\n",
       "</div>"
      ],
      "text/plain": [
       "  Confirmed  Country/Region Deaths     Last Update Province/State Recovered\n",
       "0      9074  Mainland China    294  2/1/2020 23:33          Hubei       215\n",
       "1       661  Mainland China      0   2/2/2020 2:13       Zhejiang        23\n",
       "2       604  Mainland China      0   2/2/2020 1:23      Guangdong        14\n",
       "3       493  Mainland China      2   2/2/2020 0:53          Henan         4\n",
       "4       463  Mainland China      0   2/2/2020 1:53          Hunan         8"
      ]
     },
     "execution_count": 131,
     "metadata": {},
     "output_type": "execute_result"
    }
   ],
   "source": [
    "complete_union_df.head()"
   ]
  },
  {
   "cell_type": "code",
   "execution_count": 132,
   "metadata": {},
   "outputs": [
    {
     "data": {
      "text/html": [
       "<div>\n",
       "<style scoped>\n",
       "    .dataframe tbody tr th:only-of-type {\n",
       "        vertical-align: middle;\n",
       "    }\n",
       "\n",
       "    .dataframe tbody tr th {\n",
       "        vertical-align: top;\n",
       "    }\n",
       "\n",
       "    .dataframe thead th {\n",
       "        text-align: right;\n",
       "    }\n",
       "</style>\n",
       "<table border=\"1\" class=\"dataframe\">\n",
       "  <thead>\n",
       "    <tr style=\"text-align: right;\">\n",
       "      <th></th>\n",
       "      <th>Confirmed</th>\n",
       "      <th>Country/Region</th>\n",
       "      <th>Deaths</th>\n",
       "      <th>Last Update</th>\n",
       "      <th>Province/State</th>\n",
       "      <th>Recovered</th>\n",
       "    </tr>\n",
       "  </thead>\n",
       "  <tbody>\n",
       "    <tr>\n",
       "      <th>1318</th>\n",
       "      <td></td>\n",
       "      <td>China</td>\n",
       "      <td>NaN</td>\n",
       "      <td>1/21/2020</td>\n",
       "      <td>Heilongjiang</td>\n",
       "      <td>NaN</td>\n",
       "    </tr>\n",
       "    <tr>\n",
       "      <th>1319</th>\n",
       "      <td>1</td>\n",
       "      <td>Japan</td>\n",
       "      <td>NaN</td>\n",
       "      <td>1/21/2020</td>\n",
       "      <td></td>\n",
       "      <td>NaN</td>\n",
       "    </tr>\n",
       "    <tr>\n",
       "      <th>1320</th>\n",
       "      <td>2</td>\n",
       "      <td>Thailand</td>\n",
       "      <td>NaN</td>\n",
       "      <td>1/21/2020</td>\n",
       "      <td></td>\n",
       "      <td>NaN</td>\n",
       "    </tr>\n",
       "    <tr>\n",
       "      <th>1321</th>\n",
       "      <td>1</td>\n",
       "      <td>South Korea</td>\n",
       "      <td>NaN</td>\n",
       "      <td>1/21/2020</td>\n",
       "      <td></td>\n",
       "      <td>NaN</td>\n",
       "    </tr>\n",
       "    <tr>\n",
       "      <th>1322</th>\n",
       "      <td>1</td>\n",
       "      <td>United States</td>\n",
       "      <td>NaN</td>\n",
       "      <td>1/21/2020</td>\n",
       "      <td>Washington</td>\n",
       "      <td>NaN</td>\n",
       "    </tr>\n",
       "  </tbody>\n",
       "</table>\n",
       "</div>"
      ],
      "text/plain": [
       "     Confirmed Country/Region Deaths Last Update Province/State Recovered\n",
       "1318                    China    NaN   1/21/2020   Heilongjiang       NaN\n",
       "1319         1          Japan    NaN   1/21/2020                      NaN\n",
       "1320         2       Thailand    NaN   1/21/2020                      NaN\n",
       "1321         1    South Korea    NaN   1/21/2020                      NaN\n",
       "1322         1  United States    NaN   1/21/2020     Washington       NaN"
      ]
     },
     "execution_count": 132,
     "metadata": {},
     "output_type": "execute_result"
    }
   ],
   "source": [
    "complete_union_df.tail()"
   ]
  },
  {
   "cell_type": "markdown",
   "metadata": {},
   "source": [
    "### Write output"
   ]
  },
  {
   "cell_type": "code",
   "execution_count": 133,
   "metadata": {},
   "outputs": [],
   "source": [
    "complete_union_df.to_csv('complete_union.csv')"
   ]
  },
  {
   "cell_type": "markdown",
   "metadata": {},
   "source": [
    "# Plotting"
   ]
  },
  {
   "cell_type": "code",
   "execution_count": 121,
   "metadata": {},
   "outputs": [
    {
     "data": {
      "text/plain": [
       "<matplotlib.axes._subplots.AxesSubplot at 0x2b1f65ee448>"
      ]
     },
     "execution_count": 121,
     "metadata": {},
     "output_type": "execute_result"
    },
    {
     "data": {
      "image/png": "[encoded data removed]",
      "text/plain": [
       "<Figure size 432x288 with 1 Axes>"
      ]
     },
     "metadata": {
      "needs_background": "light"
     },
     "output_type": "display_data"
    }
   ],
   "source": [
    "pd.read_csv('complete_union.csv')['Confirmed'].plot.hist()"
   ]
  },
  {
   "cell_type": "code",
   "execution_count": null,
   "metadata": {},
   "outputs": [],
   "source": []
  }
 ],
 "metadata": {
  "kernelspec": {
   "display_name": "Python 3",
   "language": "python",
   "name": "python3"
  },
  "language_info": {
   "codemirror_mode": {
    "name": "ipython",
    "version": 3
   },
   "file_extension": ".py",
   "mimetype": "text/x-python",
   "name": "python",
   "nbconvert_exporter": "python",
   "pygments_lexer": "ipython3",
   "version": "3.7.5"
  }
 },
 "nbformat": 4,
 "nbformat_minor": 4
}
